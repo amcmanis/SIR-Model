{
 "cells": [
  {
   "cell_type": "code",
   "execution_count": 19,
   "metadata": {},
   "outputs": [],
   "source": [
    "#import libraries\n",
    "import numpy as np\n",
    "import pandas as pd\n",
    "from numpy import random\n",
    "import matplotlib as plt"
   ]
  },
  {
   "cell_type": "code",
   "execution_count": 81,
   "metadata": {},
   "outputs": [],
   "source": [
    "#Set up pop state variables\n",
    "Nt = 1000 #how many people in the population?\n",
    "t_end = 90 #how many iterations do you want to run (one iteration assumed to be one day)\n",
    "\n",
    "inf_s = 1     #how many infected ppl in pop at the start?\n",
    "imm_s = 0     #how much immunity is there in the population? (not an exact # of ppl atm, but close)\n",
    "emax = 4     #max number of people encountered in a day\n",
    "\n",
    "Pr = 0.0005 #probability of recovering in one day\n",
    "Pd = 0.02 #probability of dying\n",
    "\n",
    "output = pd.DataFrame(np.empty(shape=(t_end,4),dtype='object'),columns=list('SIRD'))"
   ]
  },
  {
   "cell_type": "code",
   "execution_count": 82,
   "metadata": {},
   "outputs": [],
   "source": [
    "pop = [] #empty list\n",
    "for person in range(0,Nt):\n",
    "    pop.append({'sus':1,'inf':False,'inf days':0,'alive':True})\n",
    "\n",
    "istart = int(random.randint(0,len(pop),inf_s,int))\n",
    "\n",
    "pop[istart]['inf'] = True    #make a random person in pop infected\n",
    "pop[istart]['inf days'] += 1 #Update their 'days infected' counter to reflect one day of infection\n",
    "\n",
    "imm_start = random.choice(range(0,len(pop)),imm_s,replace=False) #adds immune people to the population if applicable\n",
    "for imm in imm_start:\n",
    "    pop[imm]['sus'] = 0 #make <imm_s> # of random people in pop not suseptible"
   ]
  },
  {
   "cell_type": "code",
   "execution_count": 83,
   "metadata": {},
   "outputs": [],
   "source": [
    "sus_tot = 0\n",
    "for n in range(0,len(pop)):\n",
    "    if pop[n]['sus'] and not pop[n]['inf']:\n",
    "        sus_tot += 1\n",
    "        \n",
    "output.loc[0,'S'] = sus_tot\n",
    "output.loc[0,'I'] = inf_s\n",
    "output.loc[0,'R'] = 0\n",
    "output.loc[:,'D'] = 0 \n",
    "#note: if you've added immue ppl to the population, then the SIRD total will be less than Nt by the # of immue ppl"
   ]
  },
  {
   "cell_type": "code",
   "execution_count": 84,
   "metadata": {},
   "outputs": [],
   "source": [
    "rec_tot = 0\n",
    "dead_tot = 0\n",
    "\n",
    "for t in range(0,t_end):\n",
    "    for i in range(0,len(pop)):\n",
    "        e = int(random.randint(0,emax,1,int)) #how many people did you encounter? (from 0 to <emax> ppl)\n",
    "        en = random.randint(0,len(pop),e,int) #which people did you encounter?\n",
    "    \n",
    "        for a in range(0,len(en)):\n",
    "            if not pop[en[a]]['alive']:\n",
    "                #if you \"encounter\" a dead person, need a diff encounter\n",
    "                en_alt = en[a]\n",
    "                while not pop[en_alt]['alive']: #if you're still meeting dead ppl\n",
    "                       en_alt = int(random.randint(0,len(pop),1,int)) #pick a new person to meet\n",
    "                en[a] = en_alt\n",
    "        \n",
    "        for k in en:\n",
    "            if pop[k]['inf'] and random.random() < 0.2 and pop[i]['sus']:\n",
    "                pop[i]['inf']=True #welp, now you're sick\n",
    "                pop[i]['inf days'] = 1\n",
    "        \n",
    "        if pop[i]['inf']:\n",
    "            if random.random()**pop[i]['inf days'] < Pr: #random number is exponentially affected by days sick so recovery prob inc with time\n",
    "                pop[i]['inf'] = False #yay you recovered!\n",
    "                pop[i]['sus'] = 0 #and you can't get sick again!\n",
    "                rec_tot +=1\n",
    "            elif random.random() < Pd:\n",
    "                pop[i]['alive'] = False #you dead :(\n",
    "                pop[i]['inf'] = False \n",
    "                dead_tot += 1\n",
    "            else:\n",
    "                pop[i]['inf days'] +=1\n",
    "    \n",
    "    sus_tot = 0\n",
    "    for n in range(0,len(pop)):\n",
    "        if pop[n]['sus'] and not pop[n]['inf']:\n",
    "            sus_tot += 1\n",
    "    output.loc[t,'S'] = sus_tot #update with new sus total for the day\n",
    "    \n",
    "    Inf_tot = 0 #reset counter to math right\n",
    "    for n in range(0,len(pop)):\n",
    "        if pop[n]['inf']:\n",
    "            Inf_tot +=1\n",
    "    output.loc[t,'I'] = Inf_tot #update with new inf total for the day\n",
    "    output.loc[t,'R'] = rec_tot #update with new rec total for the day\n",
    "    output.loc[t,'D'] = dead_tot"
   ]
  },
  {
   "cell_type": "code",
   "execution_count": 85,
   "metadata": {},
   "outputs": [
    {
     "name": "stdout",
     "output_type": "stream",
     "text": [
      "average duration of infection: 5.722 Days\n",
      "longest infection: 15 Days\n"
     ]
    }
   ],
   "source": [
    "itotal = 0\n",
    "counter = 0\n",
    "maxDays = 0\n",
    "for i in range(0,len(pop)):\n",
    "    days = pop[i]['inf days']\n",
    "    if days > 0:\n",
    "        itotal += pop[i]['inf days']\n",
    "        counter += 1\n",
    "    if days > maxDays:\n",
    "        maxDays = days\n",
    "print('average duration of infection:', round(itotal/counter,3),'Days')\n",
    "print('longest infection:',maxDays, 'Days')"
   ]
  },
  {
   "cell_type": "code",
   "execution_count": 86,
   "metadata": {},
   "outputs": [
    {
     "data": {
      "image/png": "[encoded data removed]",
      "text/plain": [
       "<Figure size 432x288 with 1 Axes>"
      ]
     },
     "metadata": {
      "needs_background": "light"
     },
     "output_type": "display_data"
    }
   ],
   "source": [
    "#print(output)\n",
    "lines = output.plot.line()"
   ]
  },
  {
   "cell_type": "code",
   "execution_count": 87,
   "metadata": {},
   "outputs": [
    {
     "name": "stdout",
     "output_type": "stream",
     "text": [
      "S    436\n",
      "I      0\n",
      "R    564\n",
      "D     72\n",
      "Name: 89, dtype: int64\n"
     ]
    }
   ],
   "source": [
    "print(output.loc[t_end-1,:])"
   ]
  },
  {
   "cell_type": "code",
   "execution_count": 88,
   "metadata": {},
   "outputs": [
    {
     "data": {
      "text/html": [
       "<div>\n",
       "<style scoped>\n",
       "    .dataframe tbody tr th:only-of-type {\n",
       "        vertical-align: middle;\n",
       "    }\n",
       "\n",
       "    .dataframe tbody tr th {\n",
       "        vertical-align: top;\n",
       "    }\n",
       "\n",
       "    .dataframe thead th {\n",
       "        text-align: right;\n",
       "    }\n",
       "</style>\n",
       "<table border=\"1\" class=\"dataframe\">\n",
       "  <thead>\n",
       "    <tr style=\"text-align: right;\">\n",
       "      <th></th>\n",
       "      <th>S</th>\n",
       "      <th>I</th>\n",
       "      <th>R</th>\n",
       "      <th>D</th>\n",
       "    </tr>\n",
       "  </thead>\n",
       "  <tbody>\n",
       "    <tr>\n",
       "      <td>0</td>\n",
       "      <td>997</td>\n",
       "      <td>3</td>\n",
       "      <td>0</td>\n",
       "      <td>0</td>\n",
       "    </tr>\n",
       "    <tr>\n",
       "      <td>1</td>\n",
       "      <td>995</td>\n",
       "      <td>5</td>\n",
       "      <td>0</td>\n",
       "      <td>0</td>\n",
       "    </tr>\n",
       "    <tr>\n",
       "      <td>2</td>\n",
       "      <td>992</td>\n",
       "      <td>8</td>\n",
       "      <td>0</td>\n",
       "      <td>1</td>\n",
       "    </tr>\n",
       "    <tr>\n",
       "      <td>3</td>\n",
       "      <td>985</td>\n",
       "      <td>15</td>\n",
       "      <td>0</td>\n",
       "      <td>1</td>\n",
       "    </tr>\n",
       "    <tr>\n",
       "      <td>4</td>\n",
       "      <td>978</td>\n",
       "      <td>22</td>\n",
       "      <td>0</td>\n",
       "      <td>1</td>\n",
       "    </tr>\n",
       "  </tbody>\n",
       "</table>\n",
       "</div>"
      ],
      "text/plain": [
       "     S   I  R  D\n",
       "0  997   3  0  0\n",
       "1  995   5  0  0\n",
       "2  992   8  0  1\n",
       "3  985  15  0  1\n",
       "4  978  22  0  1"
      ]
     },
     "execution_count": 88,
     "metadata": {},
     "output_type": "execute_result"
    }
   ],
   "source": [
    "output.head()"
   ]
  },
  {
   "cell_type": "code",
   "execution_count": null,
   "metadata": {},
   "outputs": [],
   "source": []
  },
  {
   "cell_type": "code",
   "execution_count": null,
   "metadata": {},
   "outputs": [],
   "source": []
  }
 ],
 "metadata": {
  "kernelspec": {
   "display_name": "Python 3",
   "language": "python",
   "name": "python3"
  },
  "language_info": {
   "codemirror_mode": {
    "name": "ipython",
    "version": 3
   },
   "file_extension": ".py",
   "mimetype": "text/x-python",
   "name": "python",
   "nbconvert_exporter": "python",
   "pygments_lexer": "ipython3",
   "version": "3.7.4"
  }
 },
 "nbformat": 4,
 "nbformat_minor": 2
}
